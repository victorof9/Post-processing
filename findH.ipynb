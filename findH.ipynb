{
 "cells": [
  {
   "cell_type": "markdown",
   "metadata": {},
   "source": [
    "Encontrar altura média do leito a partir de amostragem em quadrantes utilizando dados do LIGGGHTS (.vtk)\n",
    "\n",
    "Por: Victor O. Ferreira\n",
    "Em: 01/08/2020\n"
   ]
  },
  {
   "cell_type": "code",
   "execution_count": 1,
   "metadata": {},
   "outputs": [],
   "source": [
    "import numpy as np\n",
    "import pandas as pd\n",
    "import matplotlib.pyplot as plt"
   ]
  },
  {
   "cell_type": "markdown",
   "metadata": {},
   "source": [
    "Nome da simulação"
   ]
  },
  {
   "cell_type": "code",
   "execution_count": 2,
   "metadata": {},
   "outputs": [],
   "source": [
    "sim = \"3-3-80\""
   ]
  },
  {
   "cell_type": "markdown",
   "metadata": {},
   "source": [
    "Diretório no qual ficam guardadas as simulações"
   ]
  },
  {
   "cell_type": "code",
   "execution_count": 3,
   "metadata": {},
   "outputs": [],
   "source": [
    "Dirsim = r\"C:\\Users\\victo\\OneDrive\\Documentos\\UFSCar\\teste\""
   ]
  },
  {
   "cell_type": "markdown",
   "metadata": {},
   "source": [
    "Raio do leito para testar os valores obtidos da importação (pode ser que na hora de importar os dados o ponto não seja reconhecido como separador decimal)"
   ]
  },
  {
   "cell_type": "code",
   "execution_count": 4,
   "metadata": {},
   "outputs": [],
   "source": [
    "raio = 0.05"
   ]
  },
  {
   "cell_type": "markdown",
   "metadata": {},
   "source": [
    "Tempo inicial, passo de tempo da simulação e tempo final da simulação"
   ]
  },
  {
   "cell_type": "code",
   "execution_count": 5,
   "metadata": {},
   "outputs": [],
   "source": [
    "scl = 10**5 #fator multiplicador do tempo para encontrar valor igual ao do nome do documento\n",
    "t0 = 10\n",
    "dt = int(scl*5*10**(-2)) #Passo\n",
    "t_max = 30"
   ]
  },
  {
   "cell_type": "markdown",
   "metadata": {},
   "source": [
    "Número de partículas no leito"
   ]
  },
  {
   "cell_type": "code",
   "execution_count": 6,
   "metadata": {},
   "outputs": [],
   "source": [
    "N = 8000"
   ]
  },
  {
   "cell_type": "markdown",
   "metadata": {},
   "source": [
    "Número de partículas amostradas para cada quadrante (5% do número total de partículas dividido por 4 quadrantes)"
   ]
  },
  {
   "cell_type": "code",
   "execution_count": 7,
   "metadata": {},
   "outputs": [],
   "source": [
    "amostra = int(N*0.05/4)"
   ]
  },
  {
   "cell_type": "markdown",
   "metadata": {},
   "source": [
    "Criando array vazio \"h\" para por valores por iteração"
   ]
  },
  {
   "cell_type": "code",
   "execution_count": 8,
   "metadata": {},
   "outputs": [],
   "source": [
    "h = []\n",
    "AllData = pd.DataFrame(columns = ['x', 'y', 'z'])"
   ]
  },
  {
   "cell_type": "markdown",
   "metadata": {},
   "source": [
    "Encontrando os valores:"
   ]
  },
  {
   "cell_type": "markdown",
   "metadata": {},
   "source": [
    "Criando Dataframe da posição em todos os tempos:"
   ]
  },
  {
   "cell_type": "code",
   "execution_count": 9,
   "metadata": {},
   "outputs": [],
   "source": [
    "for t in range(t0*scl, t_max*scl+dt,dt):\n",
    "    txt = r\"\\liggghts_run\" + str(t) + \".vtk\"\n",
    "    Data = pd.read_csv(Dirsim+txt, delimiter=\" \", skiprows=5, header=None, nrows=N)\n",
    "    Data.columns = ['x', 'y', 'z']\n",
    "    AllData = AllData.append(Data, ignore_index=True)\n",
    "    \n",
    "    #Removendo partículas com posição fora do domínio (Caso haja)\n",
    "    Data = Data[abs(Data.x) < raio]\n",
    "    Data = Data[abs(Data.y) < raio]\n",
    "    \n",
    "    #Selecionando dados\n",
    "    Posix = Data[Data['x'] > 0]\n",
    "    Negax = Data[Data['x'] < 0]\n",
    "\n",
    "    Quad1 = Posix[Posix['y'] > 0].nlargest(amostra, 'z')\n",
    "    Quad2 = Negax[Negax['y'] > 0].nlargest(amostra, 'z')\n",
    "    Quad3 = Negax[Negax['y'] < 0].nlargest(amostra, 'z')\n",
    "    Quad4 = Posix[Posix['y'] < 0].nlargest(amostra, 'z')\n",
    "\n",
    "    SumQuad = Quad1.append([Quad2,Quad3,Quad4])    \n",
    "    \n",
    "    #Encontrando as médias e desvios padrão\n",
    "    ht = SumQuad['z'].mean(axis=0)\n",
    "    h.append(ht)"
   ]
  },
  {
   "cell_type": "markdown",
   "metadata": {},
   "source": [
    "Transformando dados obtidos em dataframe pandas"
   ]
  },
  {
   "cell_type": "code",
   "execution_count": 10,
   "metadata": {},
   "outputs": [],
   "source": [
    "h = pd.DataFrame(h, columns = ['z'])"
   ]
  },
  {
   "cell_type": "code",
   "execution_count": 11,
   "metadata": {},
   "outputs": [
    {
     "data": {
      "text/plain": [
       "z    0.577824\n",
       "dtype: float64"
      ]
     },
     "execution_count": 11,
     "metadata": {},
     "output_type": "execute_result"
    }
   ],
   "source": [
    "#Média:\n",
    "h.mean(axis=0)"
   ]
  },
  {
   "cell_type": "code",
   "execution_count": 12,
   "metadata": {},
   "outputs": [
    {
     "data": {
      "text/plain": [
       "z    0.009184\n",
       "dtype: float64"
      ]
     },
     "execution_count": 12,
     "metadata": {},
     "output_type": "execute_result"
    }
   ],
   "source": [
    "#Desvio Padrão\n",
    "h.std(axis=0)"
   ]
  },
  {
   "cell_type": "code",
   "execution_count": 13,
   "metadata": {},
   "outputs": [
    {
     "data": {
      "text/plain": [
       "z    0.000084\n",
       "dtype: float64"
      ]
     },
     "execution_count": 13,
     "metadata": {},
     "output_type": "execute_result"
    }
   ],
   "source": [
    "#Variância\n",
    "h.var(axis=0)"
   ]
  },
  {
   "cell_type": "markdown",
   "metadata": {},
   "source": [
    "Valores normalizados \"z\" para as alturas"
   ]
  },
  {
   "cell_type": "code",
   "execution_count": 14,
   "metadata": {},
   "outputs": [],
   "source": [
    "z = (h - h.mean(axis=0))/h.std(axis=0)"
   ]
  },
  {
   "cell_type": "markdown",
   "metadata": {},
   "source": [
    "Encontrando descrição completa dos dados z"
   ]
  },
  {
   "cell_type": "code",
   "execution_count": 15,
   "metadata": {},
   "outputs": [
    {
     "data": {
      "text/html": [
       "<div>\n",
       "<style scoped>\n",
       "    .dataframe tbody tr th:only-of-type {\n",
       "        vertical-align: middle;\n",
       "    }\n",
       "\n",
       "    .dataframe tbody tr th {\n",
       "        vertical-align: top;\n",
       "    }\n",
       "\n",
       "    .dataframe thead th {\n",
       "        text-align: right;\n",
       "    }\n",
       "</style>\n",
       "<table border=\"1\" class=\"dataframe\">\n",
       "  <thead>\n",
       "    <tr style=\"text-align: right;\">\n",
       "      <th></th>\n",
       "      <th>z</th>\n",
       "    </tr>\n",
       "  </thead>\n",
       "  <tbody>\n",
       "    <tr>\n",
       "      <th>count</th>\n",
       "      <td>4.010000e+02</td>\n",
       "    </tr>\n",
       "    <tr>\n",
       "      <th>mean</th>\n",
       "      <td>-4.890519e-15</td>\n",
       "    </tr>\n",
       "    <tr>\n",
       "      <th>std</th>\n",
       "      <td>1.000000e+00</td>\n",
       "    </tr>\n",
       "    <tr>\n",
       "      <th>min</th>\n",
       "      <td>-3.096919e+00</td>\n",
       "    </tr>\n",
       "    <tr>\n",
       "      <th>25%</th>\n",
       "      <td>-5.558201e-01</td>\n",
       "    </tr>\n",
       "    <tr>\n",
       "      <th>50%</th>\n",
       "      <td>9.331232e-02</td>\n",
       "    </tr>\n",
       "    <tr>\n",
       "      <th>75%</th>\n",
       "      <td>6.648649e-01</td>\n",
       "    </tr>\n",
       "    <tr>\n",
       "      <th>max</th>\n",
       "      <td>2.254127e+00</td>\n",
       "    </tr>\n",
       "  </tbody>\n",
       "</table>\n",
       "</div>"
      ],
      "text/plain": [
       "                  z\n",
       "count  4.010000e+02\n",
       "mean  -4.890519e-15\n",
       "std    1.000000e+00\n",
       "min   -3.096919e+00\n",
       "25%   -5.558201e-01\n",
       "50%    9.331232e-02\n",
       "75%    6.648649e-01\n",
       "max    2.254127e+00"
      ]
     },
     "execution_count": 15,
     "metadata": {},
     "output_type": "execute_result"
    }
   ],
   "source": [
    "z.describe()"
   ]
  },
  {
   "cell_type": "markdown",
   "metadata": {},
   "source": [
    "Plotando um histograma:"
   ]
  },
  {
   "cell_type": "code",
   "execution_count": 16,
   "metadata": {},
   "outputs": [
    {
     "data": {
      "text/plain": [
       "array([[<AxesSubplot:title={'center':'z'}>]], dtype=object)"
      ]
     },
     "execution_count": 16,
     "metadata": {},
     "output_type": "execute_result"
    },
    {
     "data": {
      "image/png": "[encoded data removed]",
      "text/plain": [
       "<Figure size 432x288 with 1 Axes>"
      ]
     },
     "metadata": {
      "needs_background": "light"
     },
     "output_type": "display_data"
    }
   ],
   "source": [
    "z.hist()"
   ]
  },
  {
   "cell_type": "code",
   "execution_count": 17,
   "metadata": {},
   "outputs": [
    {
     "data": {
      "text/html": [
       "<div>\n",
       "<style scoped>\n",
       "    .dataframe tbody tr th:only-of-type {\n",
       "        vertical-align: middle;\n",
       "    }\n",
       "\n",
       "    .dataframe tbody tr th {\n",
       "        vertical-align: top;\n",
       "    }\n",
       "\n",
       "    .dataframe thead th {\n",
       "        text-align: right;\n",
       "    }\n",
       "</style>\n",
       "<table border=\"1\" class=\"dataframe\">\n",
       "  <thead>\n",
       "    <tr style=\"text-align: right;\">\n",
       "      <th></th>\n",
       "      <th>x</th>\n",
       "      <th>y</th>\n",
       "      <th>z</th>\n",
       "    </tr>\n",
       "  </thead>\n",
       "  <tbody>\n",
       "    <tr>\n",
       "      <th>count</th>\n",
       "      <td>3.208000e+06</td>\n",
       "      <td>3.208000e+06</td>\n",
       "      <td>3.208000e+06</td>\n",
       "    </tr>\n",
       "    <tr>\n",
       "      <th>mean</th>\n",
       "      <td>5.843779e-04</td>\n",
       "      <td>2.900100e-04</td>\n",
       "      <td>2.961321e-01</td>\n",
       "    </tr>\n",
       "    <tr>\n",
       "      <th>std</th>\n",
       "      <td>2.561386e-02</td>\n",
       "      <td>2.549965e-02</td>\n",
       "      <td>1.693631e-01</td>\n",
       "    </tr>\n",
       "    <tr>\n",
       "      <th>min</th>\n",
       "      <td>-4.702500e-02</td>\n",
       "      <td>-4.702500e-02</td>\n",
       "      <td>2.972400e-03</td>\n",
       "    </tr>\n",
       "    <tr>\n",
       "      <th>25%</th>\n",
       "      <td>-2.083830e-02</td>\n",
       "      <td>-2.092895e-02</td>\n",
       "      <td>1.526957e-01</td>\n",
       "    </tr>\n",
       "    <tr>\n",
       "      <th>50%</th>\n",
       "      <td>1.036990e-03</td>\n",
       "      <td>4.436635e-04</td>\n",
       "      <td>2.954025e-01</td>\n",
       "    </tr>\n",
       "    <tr>\n",
       "      <th>75%</th>\n",
       "      <td>2.203150e-02</td>\n",
       "      <td>2.160090e-02</td>\n",
       "      <td>4.409560e-01</td>\n",
       "    </tr>\n",
       "    <tr>\n",
       "      <th>max</th>\n",
       "      <td>4.702550e-02</td>\n",
       "      <td>4.702580e-02</td>\n",
       "      <td>6.553600e-01</td>\n",
       "    </tr>\n",
       "  </tbody>\n",
       "</table>\n",
       "</div>"
      ],
      "text/plain": [
       "                  x             y             z\n",
       "count  3.208000e+06  3.208000e+06  3.208000e+06\n",
       "mean   5.843779e-04  2.900100e-04  2.961321e-01\n",
       "std    2.561386e-02  2.549965e-02  1.693631e-01\n",
       "min   -4.702500e-02 -4.702500e-02  2.972400e-03\n",
       "25%   -2.083830e-02 -2.092895e-02  1.526957e-01\n",
       "50%    1.036990e-03  4.436635e-04  2.954025e-01\n",
       "75%    2.203150e-02  2.160090e-02  4.409560e-01\n",
       "max    4.702550e-02  4.702580e-02  6.553600e-01"
      ]
     },
     "execution_count": 17,
     "metadata": {},
     "output_type": "execute_result"
    }
   ],
   "source": [
    "AllData.describe()"
   ]
  },
  {
   "cell_type": "code",
   "execution_count": 20,
   "metadata": {},
   "outputs": [
    {
     "data": {
      "text/plain": [
       "<matplotlib.colorbar.Colorbar at 0xad11058>"
      ]
     },
     "execution_count": 20,
     "metadata": {},
     "output_type": "execute_result"
    },
    {
     "data": {
      "image/png": "[encoded data removed]",
      "text/plain": [
       "<Figure size 288x288 with 2 Axes>"
      ]
     },
     "metadata": {
      "needs_background": "light"
     },
     "output_type": "display_data"
    }
   ],
   "source": [
    "plt.matshow(AllData.corr())\n",
    "plt.colorbar()"
   ]
  },
  {
   "cell_type": "code",
   "execution_count": 19,
   "metadata": {},
   "outputs": [
    {
     "data": {
      "text/html": [
       "<div>\n",
       "<style scoped>\n",
       "    .dataframe tbody tr th:only-of-type {\n",
       "        vertical-align: middle;\n",
       "    }\n",
       "\n",
       "    .dataframe tbody tr th {\n",
       "        vertical-align: top;\n",
       "    }\n",
       "\n",
       "    .dataframe thead th {\n",
       "        text-align: right;\n",
       "    }\n",
       "</style>\n",
       "<table border=\"1\" class=\"dataframe\">\n",
       "  <thead>\n",
       "    <tr style=\"text-align: right;\">\n",
       "      <th></th>\n",
       "      <th>x</th>\n",
       "      <th>y</th>\n",
       "      <th>z</th>\n",
       "    </tr>\n",
       "  </thead>\n",
       "  <tbody>\n",
       "    <tr>\n",
       "      <th>0</th>\n",
       "      <td>-0.000535</td>\n",
       "      <td>-0.047003</td>\n",
       "      <td>0.002975</td>\n",
       "    </tr>\n",
       "    <tr>\n",
       "      <th>1</th>\n",
       "      <td>-0.017037</td>\n",
       "      <td>-0.043830</td>\n",
       "      <td>0.002975</td>\n",
       "    </tr>\n",
       "    <tr>\n",
       "      <th>2</th>\n",
       "      <td>-0.011257</td>\n",
       "      <td>-0.045241</td>\n",
       "      <td>0.002975</td>\n",
       "    </tr>\n",
       "    <tr>\n",
       "      <th>3</th>\n",
       "      <td>-0.022435</td>\n",
       "      <td>-0.041328</td>\n",
       "      <td>0.002975</td>\n",
       "    </tr>\n",
       "    <tr>\n",
       "      <th>4</th>\n",
       "      <td>-0.007664</td>\n",
       "      <td>-0.040331</td>\n",
       "      <td>0.002975</td>\n",
       "    </tr>\n",
       "    <tr>\n",
       "      <th>...</th>\n",
       "      <td>...</td>\n",
       "      <td>...</td>\n",
       "      <td>...</td>\n",
       "    </tr>\n",
       "    <tr>\n",
       "      <th>3207995</th>\n",
       "      <td>0.009488</td>\n",
       "      <td>0.042159</td>\n",
       "      <td>0.570001</td>\n",
       "    </tr>\n",
       "    <tr>\n",
       "      <th>3207996</th>\n",
       "      <td>0.005365</td>\n",
       "      <td>0.003541</td>\n",
       "      <td>0.571007</td>\n",
       "    </tr>\n",
       "    <tr>\n",
       "      <th>3207997</th>\n",
       "      <td>0.012764</td>\n",
       "      <td>0.022158</td>\n",
       "      <td>0.572600</td>\n",
       "    </tr>\n",
       "    <tr>\n",
       "      <th>3207998</th>\n",
       "      <td>0.000067</td>\n",
       "      <td>0.003965</td>\n",
       "      <td>0.360626</td>\n",
       "    </tr>\n",
       "    <tr>\n",
       "      <th>3207999</th>\n",
       "      <td>0.000032</td>\n",
       "      <td>0.010703</td>\n",
       "      <td>0.564139</td>\n",
       "    </tr>\n",
       "  </tbody>\n",
       "</table>\n",
       "<p>3208000 rows × 3 columns</p>\n",
       "</div>"
      ],
      "text/plain": [
       "                x         y         z\n",
       "0       -0.000535 -0.047003  0.002975\n",
       "1       -0.017037 -0.043830  0.002975\n",
       "2       -0.011257 -0.045241  0.002975\n",
       "3       -0.022435 -0.041328  0.002975\n",
       "4       -0.007664 -0.040331  0.002975\n",
       "...           ...       ...       ...\n",
       "3207995  0.009488  0.042159  0.570001\n",
       "3207996  0.005365  0.003541  0.571007\n",
       "3207997  0.012764  0.022158  0.572600\n",
       "3207998  0.000067  0.003965  0.360626\n",
       "3207999  0.000032  0.010703  0.564139\n",
       "\n",
       "[3208000 rows x 3 columns]"
      ]
     },
     "execution_count": 19,
     "metadata": {},
     "output_type": "execute_result"
    }
   ],
   "source": [
    "AllData"
   ]
  }
 ],
 "metadata": {
  "kernelspec": {
   "display_name": "Python 3",
   "language": "python",
   "name": "python3"
  },
  "language_info": {
   "codemirror_mode": {
    "name": "ipython",
    "version": 3
   },
   "file_extension": ".py",
   "mimetype": "text/x-python",
   "name": "python",
   "nbconvert_exporter": "python",
   "pygments_lexer": "ipython3",
   "version": "3.8.3"
  }
 },
 "nbformat": 4,
 "nbformat_minor": 4
}
